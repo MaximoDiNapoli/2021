{
 "cells": [
  {
   "cell_type": "code",
   "execution_count": 64,
   "source": [
    "import pandas as pd\n",
    "\n",
    "dfBarrios = pd.read_csv(\"barrios.csv\",sep=\",\",engine=\"python\")\n",
    "del dfBarrios[\"WKT\"]\n",
    "dfBarrios = dfBarrios.dropna()\n",
    "dfComunas = pd.read_csv(\"comunas.csv\",sep=\",\",engine=\"python\")\n",
    "del dfComunas[\"WKT\"]\n",
    "dfComunas = dfComunas.dropna()\n",
    "dfCasos = pd.read_csv(\"casos.csv\",sep=\",\",engine=\"python\")\n",
    "dfCasos = dfCasos.dropna()"
   ],
   "outputs": [],
   "metadata": {}
  },
  {
   "cell_type": "code",
   "execution_count": 65,
   "source": [
    "print(\"Obtener el nombre, área y perímetro de los barrios que pertenecen a la comuna número 3.\")\n",
    "dfBarrios[\"comuna\"]=dfBarrios[\"comuna\"].astype(int)\n",
    "filtro= dfBarrios.loc[dfBarrios[\"comuna\"]==3]\n",
    "resultado = filtro[[\"barrio\",\"area\",\"perimetro\"]]\n",
    "print(resultado)\n"
   ],
   "outputs": [
    {
     "output_type": "stream",
     "name": "stdout",
     "text": [
      "Obtener el nombre, área y perímetro de los barrios que pertenecen a la comuna número 3.\n",
      "           barrio          area    perimetro\n",
      "12  SAN CRISTOBAL  2.043711e+06  5987.226479\n",
      "24      BALVANERA  4.342280e+06  8375.821811\n"
     ]
    }
   ],
   "metadata": {}
  },
  {
   "cell_type": "code",
   "execution_count": 66,
   "source": [
    "print(\"Obtener el nombre, área y perímetro de los barrios que pertenecen a los números de comunas mayores a 4 y menores a 10\")\n",
    "filtro = dfBarrios.loc[dfBarrios[\"comuna\"]>4]\n",
    "filtro = filtro.loc[filtro[\"comuna\"]<10]\n",
    "resultado = filtro[[\"barrio\", \"area\", \"perimetro\"]]\n",
    "print(resultado)"
   ],
   "outputs": [
    {
     "output_type": "stream",
     "name": "stdout",
     "text": [
      "Obtener el nombre, área y perímetro de los barrios que pertenecen a los números de comunas mayores a 4 y menores a 10\n",
      "               barrio          area     perimetro\n",
      "4             ALMAGRO  4.050752e+06   8537.901368\n",
      "5           CABALLITO  6.851029e+06  10990.964471\n",
      "9              FLORES  8.590784e+06  15772.439510\n",
      "13              BOEDO  2.609851e+06   6602.510266\n",
      "17          MATADEROS  7.398179e+06  11124.635792\n",
      "18       VILLA LUGANO  9.296142e+06  15057.468389\n",
      "30  PARQUE AVELLANEDA  4.732708e+06  10165.614028\n",
      "31   PARQUE CHACABUCO  3.832117e+06   8406.914321\n",
      "34    VILLA RIACHUELO  4.232596e+06  10596.826739\n",
      "35      VILLA SOLDATI  8.688164e+06  12441.695877\n",
      "38            LINIERS  4.374419e+06   9256.927321\n"
     ]
    }
   ],
   "metadata": {}
  },
  {
   "cell_type": "code",
   "execution_count": 67,
   "source": [
    "print(\"Obtener el perímetro y área de la comuna a la que pertenece el barrio con índice igual a 5.\")\n",
    "dfComunas[\"ID\"]=dfComunas[\"ID\"].astype(int)\n",
    "comuna=dfComunas.loc[dfComunas[\"ID\"]==dfBarrios.iloc[5][\"comuna\"].astype(int)]\n",
    "print(comuna[[\"PERIMETRO\",\"AREA\"]])"
   ],
   "outputs": [
    {
     "output_type": "stream",
     "name": "stdout",
     "text": [
      "Obtener el perímetro y área de la comuna a la que pertenece el barrio con índice igual a 5.\n",
      "      PERIMETRO          AREA\n",
      "2  18332.037457  1.265656e+07\n"
     ]
    }
   ],
   "metadata": {}
  },
  {
   "cell_type": "code",
   "execution_count": 68,
   "source": [
    "print(\"Obtener los números de comunas cuyos barrios comienzan con v.\")\n",
    "filtro = dfBarrios[dfBarrios[\"barrio\"].str[0].isin([\"V\"])]\n",
    "print(filtro[[\"barrio\", \"comuna\"]])"
   ],
   "outputs": [
    {
     "output_type": "stream",
     "name": "stdout",
     "text": [
      "Obtener los números de comunas cuyos barrios comienzan con v.\n",
      "               barrio  comuna\n",
      "2        VILLA CRESPO      15\n",
      "3    VILLA DEL PARQUE      11\n",
      "6    VILLA SANTA RITA      11\n",
      "8          VILLA REAL      10\n",
      "14    VELEZ SARSFIELD      10\n",
      "15         VILLA LURO      10\n",
      "18       VILLA LUGANO       8\n",
      "22      VILLA URQUIZA      12\n",
      "25  VILLA GRAL. MITRE      11\n",
      "28      VILLA ORTUZAR      15\n",
      "34    VILLA RIACHUELO       8\n",
      "35      VILLA SOLDATI       8\n",
      "36   VILLA PUEYRREDON      12\n",
      "37       VILLA DEVOTO      11\n",
      "39          VERSALLES      10\n"
     ]
    }
   ],
   "metadata": {}
  },
  {
   "cell_type": "code",
   "execution_count": 70,
   "source": [
    "print(\"Obtener el área de las comunas cuyos barrios tengan la letra a en su nombre.\")\n",
    "filtro = dfBarrios[dfBarrios[\"barrio\"].str.contains(\"A\")]\n",
    "print(filtro[[\"barrio\",\"area\"]])\n"
   ],
   "outputs": [
    {
     "output_type": "stream",
     "name": "stdout",
     "text": [
      "Obtener el área de las comunas cuyos barrios tengan la letra a en su nombre.\n",
      "               barrio          area\n",
      "0           CHACARITA  3.115707e+06\n",
      "1            PATERNAL  2.229829e+06\n",
      "2        VILLA CRESPO  3.615978e+06\n",
      "3    VILLA DEL PARQUE  3.399596e+06\n",
      "4             ALMAGRO  4.050752e+06\n",
      "5           CABALLITO  6.851029e+06\n",
      "6    VILLA SANTA RITA  2.153691e+06\n",
      "7        MONTE CASTRO  2.627481e+06\n",
      "8          VILLA REAL  1.334146e+06\n",
      "10           FLORESTA  2.320641e+06\n",
      "12      SAN CRISTOBAL  2.043711e+06\n",
      "14    VELEZ SARSFIELD  2.400518e+06\n",
      "15         VILLA LURO  2.566937e+06\n",
      "16   PARQUE PATRICIOS  3.743440e+06\n",
      "17          MATADEROS  7.398179e+06\n",
      "18       VILLA LUGANO  9.296142e+06\n",
      "19          SAN TELMO  1.232270e+06\n",
      "20           SAAVEDRA  5.538677e+06\n",
      "21            COGHLAN  1.279951e+06\n",
      "22      VILLA URQUIZA  5.449059e+06\n",
      "23         COLEGIALES  2.289774e+06\n",
      "24          BALVANERA  4.342280e+06\n",
      "25  VILLA GRAL. MITRE  2.162275e+06\n",
      "26        PARQUE CHAS  1.385412e+06\n",
      "27          AGRONOMIA  2.122169e+06\n",
      "28      VILLA ORTUZAR  1.853802e+06\n",
      "29           BARRACAS  7.953453e+06\n",
      "30  PARQUE AVELLANEDA  4.732708e+06\n",
      "31   PARQUE CHACABUCO  3.832117e+06\n",
      "32      NUEVA POMPEYA  4.951511e+06\n",
      "33            PALERMO  1.584587e+07\n",
      "34    VILLA RIACHUELO  4.232596e+06\n",
      "35      VILLA SOLDATI  8.688164e+06\n",
      "36   VILLA PUEYRREDON  3.303240e+06\n",
      "37       VILLA DEVOTO  6.404481e+06\n",
      "39          VERSALLES  1.406834e+06\n",
      "40      PUERTO MADERO  5.040971e+06\n",
      "41          MONSERRAT  2.198622e+06\n",
      "42        SAN NICOLAS  2.289008e+06\n",
      "43           BELGRANO  7.999240e+06\n",
      "44           RECOLETA  6.317265e+06\n",
      "47               BOCA  5.036240e+06\n"
     ]
    }
   ],
   "metadata": {}
  },
  {
   "cell_type": "code",
   "execution_count": null,
   "source": [
    "print(\"Obtener el perímetro de la comuna correspondiente al caso con índice igual a 15.\")\n",
    "filtro = dfComunas.loc[dfComunas[\"ID\"]==15]\n",
    "\n",
    "print(filtro[[\"PERIMETRO\"]])"
   ],
   "outputs": [
    {
     "output_type": "stream",
     "name": "stdout",
     "text": [
      "Obtener el perímetro de la comuna correspondiente al caso con índice igual a 15.\n",
      "      PERIMETRO\n",
      "7  26198.826953\n"
     ]
    }
   ],
   "metadata": {}
  },
  {
   "cell_type": "code",
   "execution_count": null,
   "source": [
    "print(\"Obtener el área del barrio correspondiente al caso con índice igual a 7.\")\n",
    "filtro = dfBarrios.iloc[7]\n",
    "\n",
    "print(filtro[[\"barrio\",\"area\"]])"
   ],
   "outputs": [
    {
     "output_type": "stream",
     "name": "stdout",
     "text": [
      "Obtener el área del barrio correspondiente al caso con índice igual a 7.\n",
      "barrio     MONTE CASTRO\n",
      "area      2627481.32508\n",
      "Name: 7, dtype: object\n"
     ]
    }
   ],
   "metadata": {}
  },
  {
   "cell_type": "code",
   "execution_count": null,
   "source": [
    "print(\"Obtener el índice, nombre y nro. de comuna de los barrios cuyos resíndiceentes estén asociados a los números de casos mayores a 6.000.000 y menores a 7.000.000\")\n",
    "filtro = dfCasos[dfCasos[\"numero_de_caso\"]>6000000]\n",
    "filtro = filtro[filtro[\"numero_de_caso\"]<7000000]\n",
    "\n",
    "print(filtro[[\"barrio\",\"comuna\"]])\n"
   ],
   "outputs": [
    {
     "output_type": "stream",
     "name": "stdout",
     "text": [
      "Obtener el índice, nombre y nro. de comuna de los barrios cuyos resíndiceentes estén asociados a los números de casos mayores a 6.000.000 y menores a 7.000.000\n",
      "Empty DataFrame\n",
      "Columns: [barrio, comuna]\n",
      "Index: []\n"
     ]
    }
   ],
   "metadata": {}
  },
  {
   "cell_type": "code",
   "execution_count": null,
   "source": [
    "print(\"Obtener el género y la edad de aquellas personas que pertenecen al barrio con índice igual a 3.\")\n",
    "filtro = dfBarrios[\"barrio\"].iloc[3]\n",
    "filtro=dfCasos[dfCasos[\"barrio\"]==filtro]\n",
    "\n",
    "print(filtro[[\"genero\",\"edad\",\"barrio\"]])\n"
   ],
   "outputs": [
    {
     "output_type": "stream",
     "name": "stdout",
     "text": [
      "Obtener el género y la edad de aquellas personas que pertenecen al barrio con índice igual a 3.\n",
      "        genero  edad            barrio\n",
      "7    masculino    29  VILLA DEL PARQUE\n",
      "150  masculino    30  VILLA DEL PARQUE\n",
      "354  masculino    52  VILLA DEL PARQUE\n",
      "459   femenino    25  VILLA DEL PARQUE\n",
      "509   femenino    41  VILLA DEL PARQUE\n"
     ]
    }
   ],
   "metadata": {}
  },
  {
   "cell_type": "code",
   "execution_count": null,
   "source": [
    "print(\"Obtener el nombre y el índice de los barrios de los casos cuyo tipo de contagio es igual a En Investigación.\")\n",
    "filtro = dfCasos[dfCasos[\"tipo_contagio\"]== \"En Investigación\"]\n",
    "\n",
    "print(filtro[[\"barrio\"]])"
   ],
   "outputs": [
    {
     "output_type": "stream",
     "name": "stdout",
     "text": [
      "Obtener el nombre y el índice de los barrios de los casos cuyo tipo de contagio es igual a En Investigación.\n",
      "                barrio\n",
      "9            BALVANERA\n",
      "17                 NaN\n",
      "21   PARQUE AVELLANEDA\n",
      "27              FLORES\n",
      "29        VILLA LUGANO\n",
      "33              FLORES\n",
      "34               BOEDO\n",
      "46            SAAVEDRA\n",
      "90        MONTE CASTRO\n",
      "105            PALERMO\n",
      "109             FLORES\n",
      "110          SAN TELMO\n",
      "116             FLORES\n",
      "117              NUÑEZ\n",
      "242                NaN\n",
      "280          CHACARITA\n",
      "284           RECOLETA\n",
      "326                NaN\n",
      "333          BALVANERA\n",
      "335                NaN\n",
      "337                NaN\n",
      "338                NaN\n",
      "340  VILLA GRAL. MITRE\n",
      "343                NaN\n",
      "350                NaN\n",
      "363       CONSTITUCION\n",
      "369    VELEZ SARSFIELD\n",
      "370                NaN\n",
      "381       MONTE CASTRO\n",
      "388                NaN\n",
      "402   PARQUE CHACABUCO\n",
      "407            PALERMO\n",
      "414       CONSTITUCION\n",
      "421                NaN\n",
      "422                NaN\n",
      "430                NaN\n",
      "432                NaN\n",
      "439                NaN\n",
      "450                NaN\n",
      "455                NaN\n",
      "458          MONSERRAT\n",
      "485                NaN\n",
      "495                NaN\n",
      "498                NaN\n",
      "501          MATADEROS\n",
      "504           BARRACAS\n",
      "508                NaN\n",
      "540      VILLA SOLDATI\n",
      "553          BALVANERA\n",
      "557       VILLA LUGANO\n",
      "558                NaN\n",
      "589                NaN\n"
     ]
    }
   ],
   "metadata": {}
  },
  {
   "cell_type": "code",
   "execution_count": null,
   "source": [
    "print(\"Obtener el nombre y el índice de los barrios cuyos casos correspondan a personas menores de edad.\")\n",
    "filtro=dfCasos[dfCasos.edad<18].barrio\n",
    "filtro = filtro.dropna()\n",
    "filtro = filtro.drop_duplicates()\n",
    "print(filtro)\n"
   ],
   "outputs": [
    {
     "output_type": "stream",
     "name": "stdout",
     "text": [
      "Obtener el nombre y el índice de los barrios cuyos casos correspondan a personas menores de edad.\n",
      "2          CABALLITO\n",
      "65      VILLA DEVOTO\n",
      "77          BELGRANO\n",
      "108    NUEVA POMPEYA\n",
      "204          ALMAGRO\n",
      "253        MATADEROS\n",
      "284         RECOLETA\n",
      "305    VILLA URQUIZA\n",
      "342     VILLA LUGANO\n",
      "454           FLORES\n",
      "499           RETIRO\n",
      "569        CHACARITA\n",
      "Name: barrio, dtype: object\n"
     ]
    }
   ],
   "metadata": {}
  },
  {
   "cell_type": "code",
   "execution_count": null,
   "source": [
    "print(\"Obtener el índice, número de caso, género y edad de aquellos casos que no pertenezcan a los barrios con índice mayor a 4.\")\n",
    "filtro = dfBarrios[dfBarrios.index>4][\"barrio\"]\n",
    "filtro=dfCasos[~dfCasos.barrio.isin(filtro)]\n",
    "print(filtro[[\"numero_de_caso\",\"genero\",\"edad\",\"barrio\"]])"
   ],
   "outputs": [
    {
     "output_type": "stream",
     "name": "stdout",
     "text": [
      "Obtener el índice, número de caso, género y edad de aquellos casos que no pertenezcan a los barrios con índice mayor a 4.\n",
      "     numero_de_caso     genero  edad            barrio\n",
      "0           7673311  masculino    30               NaN\n",
      "1           7673339   femenino    17               NaN\n",
      "4           7673405  masculino    84               NaN\n",
      "6           7673482  masculino    71               NaN\n",
      "7           7673498  masculino    29  VILLA DEL PARQUE\n",
      "..              ...        ...   ...               ...\n",
      "592         5173481   femenino    23               NaN\n",
      "595         5207581  masculino    37               NaN\n",
      "596         5286275   femenino    86               NaN\n",
      "597         5287632  masculino    36               NaN\n",
      "598         5287907   femenino    42               NaN\n",
      "\n",
      "[306 rows x 4 columns]\n"
     ]
    }
   ],
   "metadata": {}
  },
  {
   "cell_type": "code",
   "execution_count": null,
   "source": [
    "print(\"Obtener el índice, número de caso, género y edad de aquellos casos que no pertenezcan a la comuna 13.\")\n",
    "filtro = dfCasos[dfCasos[\"comuna\"]!=14]\n",
    "print(filtro[[\"numero_de_caso\",\"genero\",\"edad\",\"comuna\"]])"
   ],
   "outputs": [
    {
     "output_type": "stream",
     "name": "stdout",
     "text": [
      "Obtener el índice, número de caso, género y edad de aquellos casos que no pertenezcan a la comuna 13.\n",
      "     numero_de_caso     genero  edad  comuna\n",
      "0           7673311  masculino    30     NaN\n",
      "1           7673339   femenino    17     NaN\n",
      "2           7673340   femenino    12     6.0\n",
      "3           7673364   femenino    55     2.0\n",
      "4           7673405  masculino    84     NaN\n",
      "..              ...        ...   ...     ...\n",
      "594         5178787   femenino    23     3.0\n",
      "595         5207581  masculino    37     NaN\n",
      "596         5286275   femenino    86     NaN\n",
      "597         5287632  masculino    36     NaN\n",
      "598         5287907   femenino    42     NaN\n",
      "\n",
      "[575 rows x 4 columns]\n"
     ]
    }
   ],
   "metadata": {}
  }
 ],
 "metadata": {
  "orig_nbformat": 4,
  "language_info": {
   "name": "python",
   "version": "3.8.10",
   "mimetype": "text/x-python",
   "codemirror_mode": {
    "name": "ipython",
    "version": 3
   },
   "pygments_lexer": "ipython3",
   "nbconvert_exporter": "python",
   "file_extension": ".py"
  },
  "kernelspec": {
   "name": "python3",
   "display_name": "Python 3.8.10 64-bit"
  },
  "interpreter": {
   "hash": "916dbcbb3f70747c44a77c7bcd40155683ae19c65e1c03b4aa3499c5328201f1"
  }
 },
 "nbformat": 4,
 "nbformat_minor": 2
}