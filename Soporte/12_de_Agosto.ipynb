{
  "nbformat": 4,
  "nbformat_minor": 0,
  "metadata": {
    "colab": {
      "name": "12 de Agosto.ipynb",
      "provenance": [],
      "collapsed_sections": []
    },
    "kernelspec": {
      "name": "python3",
      "display_name": "Python 3"
    },
    "language_info": {
      "name": "python"
    }
  },
  "cells": [
    {
      "cell_type": "code",
      "metadata": {
        "id": "jAqfyJmNQbZf"
      },
      "source": [
        "import pandas as pd\n",
        "\n",
        "import numpy as np\n",
        "\n",
        "df=pd.read_csv(\"a.csv\")\n",
        "\n",
        "def fixEspacios(valor):\n",
        "    valor = str(valor)\n",
        "    if valor[0] == ' ':\n",
        "        valor = valor[1:]\n",
        "    if valor == '':\n",
        "        valor = np.nan\n",
        "    if valor == 'nan':\n",
        "        valor = np.nan\n",
        "    return valor\n",
        "\n",
        "def fixObservacion(valor):\n",
        "    if \"hiper\" not in valor and \"cabeza\" not in valor:\n",
        "        valor= \"ninguna\"\n",
        "    elif \"cabeza\" in valor:\n",
        "        valor= \"dolor de cabeza\"\n",
        "    else:\n",
        "        valor=\"hipertensión\"\n",
        "    return valor\n",
        "\n",
        "def fixLu(valor):\n",
        "    valor = str(valor)\n",
        "    if '//' in valor:\n",
        "        valor = valor.replace('//','/')\n",
        "    for caracter in valor:\n",
        "        if not caracter.isnumeric() and caracter != \"/\":\n",
        "          valor = valor.replace(caracter,'/')\n",
        "\n",
        "    return valor\n",
        "\n",
        "def fixSexo(valor):\n",
        "    valor = str(valor)\n",
        "    if valor == \"No binarie\":\n",
        "        valor=\"nb\"\n",
        "    elif \"H\" in valor:\n",
        "        valor=\"h\"\n",
        "    elif \"M\" in valor:\n",
        "        valor=\"m\"\n",
        "    return valor\n",
        "def fixPeso(valor):\n",
        "    valor=str(valor)\n",
        "    valor=valor.replace(' kg','')\n",
        "    return valor\n",
        "\n",
        "def fixAltura(valor):\n",
        "    valor=valor.replace('m','')\n",
        "    return valor\n",
        "\n",
        "df=df.applymap(fixEspacios)\n",
        "df=df.dropna()\n",
        "df[' Observacion']=df[' Observacion'].apply(fixObservacion)\n",
        "df[' LU']=df[' LU'].apply(fixLu)\n",
        "df=df.loc[(df[\" Sexo\"].str.contains(\"M\")) | (df[\" Sexo\"].str.contains(\"H\")) | (df[\" Sexo\"].str.contains(\"No\"))]\n",
        "df[' Peso']=df[' Peso'].apply(fixPeso)\n",
        "df[' Altura']=df[' Altura'].apply(fixAltura)\n",
        "df[' Sexo']=df[' Sexo'].apply(fixSexo)\n",
        "print(df)\n"
      ],
      "execution_count": null,
      "outputs": []
    }
  ]
}