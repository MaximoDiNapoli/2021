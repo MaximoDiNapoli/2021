{
  "nbformat": 4,
  "nbformat_minor": 0,
  "metadata": {
    "colab": {
      "name": "21 de Octubre.ipynb",
      "provenance": [],
      "collapsed_sections": []
    },
    "kernelspec": {
      "name": "python3",
      "display_name": "Python 3"
    },
    "language_info": {
      "name": "python"
    }
  },
  "cells": [
    {
      "cell_type": "code",
      "metadata": {
        "id": "gn0uUF0InJ8L"
      },
      "source": [
        "import pandas as pd\n",
        "import seaborn as sns\n",
        "import matplotlib.pyplot as plt1\n",
        "import matplotlib.pyplot as plt2\n",
        "import numpy as np\n",
        "\n",
        "\n",
        "df=pd.read_csv(\"a.csv\")\n",
        "df[\"media\"] = pd.to_numeric(df[\"media\"], downcast='float')\n",
        "mediaMaxima=df.iloc[df['media'].idxmax()]\n",
        "mediaMinima=df.iloc[df['media'].idxmin()]\n",
        "\n",
        "print(\"El año con la mayor temperatura máxima fue:\")\n",
        "print(max)\n",
        "print(\"El año con la menos temperatura mínima fue:\")\n",
        "print(min)\n",
        "\n",
        "print('\\n')\n",
        "print(\"Como cambio la temperatura durante el transcurso de los años\")\n",
        "primerYear=df.loc[df['año'] == 1991]\n",
        "maximaPrimerYear=primerYear.loc[primerYear['media'].idxmax()]\n",
        "minimaPrimerYear=primerYear.loc[primerYear['media'].idxmin()]\n",
        "mesMin=maximaPrimerYear.loc[\"mes\"]\n",
        "mesMax=minimaPrimerYear.loc[\"mes\"]\n",
        "tempMax=maximaPrimerYear.loc[\"media\"]\n",
        "tempMin=minimaPrimerYear.loc[\"media\"]\n",
        "promedioTemp = (tempMax + tempMin)/2\n",
        "\n",
        "ultimoYear=df.loc[df['año'] == 2020]\n",
        "print(ultimoYear)\n",
        "maximaUltimoYear=ultimoYear.loc[ultimoYear[\"media\"].idxmax()]\n",
        "minimaUltimoYear=ultimoYear.loc[ultimoYear['media'].idxmin()]\n",
        "mesMinUltimo=maximaUltimoYear.loc[\"mes\"]\n",
        "mesMaxUltimo=minimaUltimoYear.loc[\"mes\"]\n",
        "tempMaxUltimo=maximaUltimoYear.loc[\"media\"]\n",
        "tempMinUltimo=minimaUltimoYear.loc[\"media\"]\n",
        "promedioTempUltimo = (tempMaxUltimo + tempMinUltimo)/2\n",
        "print(\"1991 vs 2020\")\n",
        "print(\"La temperatura promedio aumentó: \", promedioTempUltimo - promedioTemp, \"grados\")\n",
        "print(\"La temperatura máxima aumentó: \" , tempMaxUltimo - tempMax,   \"grados\")\n",
        "print(\"La temperatura mínima aumentó: \", tempMinUltimo - tempMin, \"grados\")\n",
        "\n",
        "df2 = df[[\"máxima\",\"mínima\",\"año\",\"mes\"]]\n",
        "sns.pairplot(df2,hue=\"mes\",palette=\"Spectral\")\n"
      ],
      "execution_count": null,
      "outputs": []
    }
  ]
}